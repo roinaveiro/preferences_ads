{
 "cells": [
  {
   "cell_type": "code",
   "execution_count": 29,
   "metadata": {},
   "outputs": [],
   "source": [
    "import numpy as np\n",
    "import pandas as pd\n",
    "from simulator import simulator\n",
    "from ads_regulator import ADS\n"
   ]
  },
  {
   "cell_type": "code",
   "execution_count": 30,
   "metadata": {},
   "outputs": [],
   "source": [
    "accident_prob =   pd.read_csv(\"data/accident_prob\", index_col=0, delim_whitespace=True)\n",
    "inj_fat_out   =   pd.read_csv(\"data/inj_fat_prob_out\", index_col=0, delim_whitespace=True)\n",
    "inj_fat_in    =   pd.read_csv(\"data/inj_fat_prob_in\", index_col=0, delim_whitespace=True)\n",
    "\n",
    "inj_fat_in  = [x.drop(columns=\"type\").values for _, x in inj_fat_in.groupby(inj_fat_in['type']) ]\n",
    "inj_fat_out = [x.drop(columns=\"type\").values for _, x in inj_fat_out.groupby(inj_fat_out['type']) ]"
   ]
  },
  {
   "cell_type": "code",
   "execution_count": 31,
   "metadata": {},
   "outputs": [],
   "source": [
    "l = 1000\n",
    "w = [0.0, 0.1]\n",
    "sim = simulator(l)\n",
    "env = sim.simulate_environment()\n",
    "ads =  ADS(env, accident_prob, inj_fat_in, inj_fat_out, w)\n",
    "ads.complete_road()"
   ]
  },
  {
   "cell_type": "code",
   "execution_count": 32,
   "metadata": {},
   "outputs": [
    {
     "data": {
      "text/plain": [
       "336.3605785401951"
      ]
     },
     "execution_count": 32,
     "metadata": {},
     "output_type": "execute_result"
    }
   ],
   "source": [
    "l/ads.speed_sel.mean()"
   ]
  },
  {
   "cell_type": "code",
   "execution_count": 33,
   "metadata": {},
   "outputs": [
    {
     "data": {
      "text/plain": [
       "3"
      ]
     },
     "execution_count": 33,
     "metadata": {},
     "output_type": "execute_result"
    }
   ],
   "source": [
    "ads.injuries_in + ads.injuries_out"
   ]
  },
  {
   "cell_type": "code",
   "execution_count": 34,
   "metadata": {},
   "outputs": [
    {
     "data": {
      "text/plain": [
       "0"
      ]
     },
     "execution_count": 34,
     "metadata": {},
     "output_type": "execute_result"
    }
   ],
   "source": [
    "ads.fatalities_in + ads.fatalities_out"
   ]
  },
  {
   "cell_type": "code",
   "execution_count": 52,
   "metadata": {},
   "outputs": [],
   "source": []
  },
  {
   "cell_type": "code",
   "execution_count": 63,
   "metadata": {},
   "outputs": [],
   "source": [
    "w = np.arange(0.1, 1.0, 0.1)\n",
    "w = np.insert(w, 9, 0.99)\n",
    "w = np.insert(w, 0, 0.01)\n",
    "\n",
    "grid = []\n",
    "for i in w:\n",
    "    grid.append([np.round(i, 2), np.round(1-i, 2)])"
   ]
  },
  {
   "cell_type": "code",
   "execution_count": 64,
   "metadata": {},
   "outputs": [
    {
     "data": {
      "text/plain": [
       "[[0.01, 0.99],\n",
       " [0.1, 0.9],\n",
       " [0.2, 0.8],\n",
       " [0.3, 0.7],\n",
       " [0.4, 0.6],\n",
       " [0.5, 0.5],\n",
       " [0.6, 0.4],\n",
       " [0.7, 0.3],\n",
       " [0.8, 0.2],\n",
       " [0.9, 0.1],\n",
       " [0.99, 0.01]]"
      ]
     },
     "execution_count": 64,
     "metadata": {},
     "output_type": "execute_result"
    }
   ],
   "source": [
    "grid"
   ]
  },
  {
   "cell_type": "code",
   "execution_count": null,
   "metadata": {},
   "outputs": [],
   "source": []
  }
 ],
 "metadata": {
  "kernelspec": {
   "display_name": "Python 3",
   "language": "python",
   "name": "python3"
  },
  "language_info": {
   "codemirror_mode": {
    "name": "ipython",
    "version": 3
   },
   "file_extension": ".py",
   "mimetype": "text/x-python",
   "name": "python",
   "nbconvert_exporter": "python",
   "pygments_lexer": "ipython3",
   "version": "3.6.12"
  }
 },
 "nbformat": 4,
 "nbformat_minor": 4
}
