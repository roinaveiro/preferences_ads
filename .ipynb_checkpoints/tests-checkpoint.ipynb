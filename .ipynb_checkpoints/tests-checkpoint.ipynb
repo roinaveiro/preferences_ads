{
 "cells": [
  {
   "cell_type": "code",
   "execution_count": 1,
   "metadata": {},
   "outputs": [],
   "source": [
    "import numpy as np\n",
    "import pandas as pd\n",
    "from simulator import simulator\n",
    "from ads import ADS\n"
   ]
  },
  {
   "cell_type": "code",
   "execution_count": 2,
   "metadata": {},
   "outputs": [],
   "source": [
    "accident_prob =   pd.read_csv(\"data/accident_prob\", index_col=0, delim_whitespace=True)\n",
    "inj_fat_out   =   pd.read_csv(\"data/inj_fat_prob_out\", index_col=0, delim_whitespace=True)\n",
    "inj_fat_in    =   pd.read_csv(\"data/inj_fat_prob_in\", index_col=0, delim_whitespace=True)\n",
    "\n",
    "inj_fat_in  = [x.drop(columns=\"type\").values for _, x in inj_fat_in.groupby(inj_fat_in['type']) ]\n",
    "inj_fat_out = [x.drop(columns=\"type\").values for _, x in inj_fat_out.groupby(inj_fat_out['type']) ]"
   ]
  },
  {
   "cell_type": "code",
   "execution_count": 3,
   "metadata": {},
   "outputs": [
    {
     "name": "stdout",
     "output_type": "stream",
     "text": [
      "0\n",
      "1\n",
      "2\n",
      "3\n",
      "4\n",
      "5\n",
      "6\n",
      "7\n",
      "8\n",
      "9\n"
     ]
    }
   ],
   "source": [
    "ut_out = []\n",
    "ut_in = []\n",
    "\n",
    "for i in range(10):\n",
    "    print(i)\n",
    "    l = 1000\n",
    "    w = [0.2, 0.0, 0.8]\n",
    "    sim = simulator(l)\n",
    "    env = sim.simulate_environment()\n",
    "    ads =  ADS(env, accident_prob, inj_fat_in, inj_fat_out, w)\n",
    "    ads.complete_road()\n",
    "    ut_out.append(ads.ut_out.mean())\n",
    "    ut_in.append(ads.ut_in.mean())"
   ]
  },
  {
   "cell_type": "code",
   "execution_count": 4,
   "metadata": {},
   "outputs": [
    {
     "name": "stdout",
     "output_type": "stream",
     "text": [
      "0\n",
      "1\n",
      "2\n",
      "3\n",
      "4\n",
      "5\n",
      "6\n",
      "7\n",
      "8\n",
      "9\n"
     ]
    }
   ],
   "source": [
    "ut_out_prev = []\n",
    "ut_in_prev = []\n",
    "\n",
    "for i in range(10):\n",
    "    print(i)\n",
    "    l = 1000\n",
    "    w = [0.2, 0.8, 0.0]\n",
    "    sim = simulator(l)\n",
    "    env = sim.simulate_environment()\n",
    "    ads =  ADS(env, accident_prob, inj_fat_in, inj_fat_out, w)\n",
    "    ads.complete_road()\n",
    "    ut_out_prev.append(ads.ut_out.mean())\n",
    "    ut_in_prev.append(ads.ut_in.mean())"
   ]
  },
  {
   "cell_type": "code",
   "execution_count": 5,
   "metadata": {
    "scrolled": true
   },
   "outputs": [
    {
     "data": {
      "text/plain": [
       "-0.041"
      ]
     },
     "execution_count": 5,
     "metadata": {},
     "output_type": "execute_result"
    }
   ],
   "source": [
    "np.mean( np.array(ut_out))"
   ]
  },
  {
   "cell_type": "code",
   "execution_count": 6,
   "metadata": {},
   "outputs": [
    {
     "data": {
      "text/plain": [
       "-0.275"
      ]
     },
     "execution_count": 6,
     "metadata": {},
     "output_type": "execute_result"
    }
   ],
   "source": [
    "np.mean( np.array(ut_out_prev))"
   ]
  },
  {
   "cell_type": "code",
   "execution_count": 7,
   "metadata": {},
   "outputs": [
    {
     "data": {
      "text/plain": [
       "-0.45599999999999996"
      ]
     },
     "execution_count": 7,
     "metadata": {},
     "output_type": "execute_result"
    }
   ],
   "source": [
    "np.mean( np.array(ut_in) )"
   ]
  },
  {
   "cell_type": "code",
   "execution_count": 8,
   "metadata": {},
   "outputs": [
    {
     "data": {
      "text/plain": [
       "0.0"
      ]
     },
     "execution_count": 8,
     "metadata": {},
     "output_type": "execute_result"
    }
   ],
   "source": [
    "np.mean( np.array(ut_in_prev) ) "
   ]
  },
  {
   "cell_type": "code",
   "execution_count": 120,
   "metadata": {},
   "outputs": [],
   "source": [
    "w = [0.2, 0.0, 0.8]\n",
    "sim = simulator(l)\n",
    "env = sim.simulate_environment()\n",
    "ads =  ADS(env, accident_prob, inj_fat_in, inj_fat_out, w)\n"
   ]
  },
  {
   "cell_type": "code",
   "execution_count": 121,
   "metadata": {},
   "outputs": [],
   "source": [
    "ads.road[0] = np.array([0, 2])"
   ]
  },
  {
   "cell_type": "code",
   "execution_count": 122,
   "metadata": {},
   "outputs": [],
   "source": [
    "ads.people[0] = np.array([0, 10])"
   ]
  },
  {
   "cell_type": "code",
   "execution_count": 123,
   "metadata": {},
   "outputs": [
    {
     "data": {
      "text/plain": [
       "(1, 0)"
      ]
     },
     "execution_count": 123,
     "metadata": {},
     "output_type": "execute_result"
    }
   ],
   "source": [
    "ads.decide()"
   ]
  },
  {
   "cell_type": "code",
   "execution_count": null,
   "metadata": {},
   "outputs": [],
   "source": []
  }
 ],
 "metadata": {
  "kernelspec": {
   "display_name": "Python 3",
   "language": "python",
   "name": "python3"
  },
  "language_info": {
   "codemirror_mode": {
    "name": "ipython",
    "version": 3
   },
   "file_extension": ".py",
   "mimetype": "text/x-python",
   "name": "python",
   "nbconvert_exporter": "python",
   "pygments_lexer": "ipython3",
   "version": "3.6.12"
  }
 },
 "nbformat": 4,
 "nbformat_minor": 4
}
