{
 "cells": [
  {
   "cell_type": "code",
   "execution_count": 56,
   "metadata": {},
   "outputs": [],
   "source": [
    "import numpy as np\n",
    "import pandas as pd\n",
    "from simulator import simulator\n",
    "from ads import ADS\n",
    "\n",
    "import matplotlib\n",
    "import matplotlib.pyplot as plt\n",
    "import seaborn as sns\n",
    "import matplotlib.pyplot as plt\n",
    "import matplotlib.ticker as ticker\n",
    "from matplotlib.patches import Patch\n",
    "from matplotlib.lines import Line2D\n",
    "from matplotlib.colors import LinearSegmentedColormap"
   ]
  },
  {
   "cell_type": "code",
   "execution_count": 54,
   "metadata": {},
   "outputs": [],
   "source": [
    "def plot_bp(df, y, ylab, path=None):\n",
    "    \n",
    "    matplotlib.rc_file_defaults()\n",
    "    ax = sns.set_style(style=None, rc=None )\n",
    "    fig, ax = plt.subplots(figsize=(10,10))\n",
    "    plot_ = sns.boxplot(y=df[y])\n",
    "    #sns.swarmplot(y=df[y], color=\".25\")\n",
    "    ax.set_ylabel(ylab, fontsize=20)\n",
    "    ax.tick_params(labelsize=15)\n",
    "    if path is not None:\n",
    "        plot_.figure.savefig(path)"
   ]
  },
  {
   "cell_type": "code",
   "execution_count": 50,
   "metadata": {},
   "outputs": [],
   "source": [
    "accident_prob =   pd.read_csv(\"data/accident_prob\", index_col=0, delim_whitespace=True)\n",
    "inj_fat_out   =   pd.read_csv(\"data/inj_fat_prob_out\", index_col=0, delim_whitespace=True)\n",
    "inj_fat_in    =   pd.read_csv(\"data/inj_fat_prob_in\", index_col=0, delim_whitespace=True)"
   ]
  },
  {
   "cell_type": "code",
   "execution_count": null,
   "metadata": {},
   "outputs": [],
   "source": [
    "def do_exp(w, N_sim):\n",
    "    avg_ut  = np.zeros(N_sim)\n",
    "    acc     = np.zeros(N_sim)\n",
    "    fat_in  = np.zeros(N_sim)\n",
    "    fat_out = np.zeros(N_sim)\n",
    "    inj_in  = np.zeros(N_sim)\n",
    "    inj_out = np.zeros(N_sim)\n",
    "    ##\n",
    "    for i in range(N_sim):\n",
    "        sim = simulator(500)\n",
    "        env = sim.simulate_environment()\n",
    "        ads =  ADS(env, accident_prob, inj_fat_in, inj_fat_out, w)\n",
    "        ads.complete_road()\n",
    "\n",
    "        avg_ut[i]  = ads.utilities.mean()\n",
    "        acc[i]     = ads.accidents\n",
    "        fat_in[i]  = ads.fatalities_in\n",
    "        fat_out[i] = ads.fatalities_out\n",
    "        inj_in[i]  = ads.injuries_in\n",
    "        inj_out[i] = ads.injuries_out\n",
    "        \n",
    "    df = pd.DataFrame({\"avg_ut\": avg_ut,\n",
    "             \"n_accidents\": acc,\n",
    "             \"n_fat_in\": fat_in,\n",
    "             \"n_fat_out\": fat_out,\n",
    "             \"n_inj_in\" : inj_in,\n",
    "             \"n_inj_out\": inj_out})\n",
    "    \n",
    "    return df"
   ]
  },
  {
   "cell_type": "code",
   "execution_count": 70,
   "metadata": {},
   "outputs": [
    {
     "name": "stdout",
     "output_type": "stream",
     "text": [
      "0.0\n",
      "0.1\n",
      "0.2\n",
      "0.3\n",
      "0.4\n",
      "0.5\n",
      "0.6\n",
      "0.7\n",
      "0.8\n",
      "0.9\n"
     ]
    }
   ],
   "source": [
    "w = [0.4, 0.6, 0.0]\n",
    "N_sim = 100\n"
   ]
  },
  {
   "cell_type": "code",
   "execution_count": 71,
   "metadata": {},
   "outputs": [],
   "source": []
  },
  {
   "cell_type": "code",
   "execution_count": 74,
   "metadata": {},
   "outputs": [
    {
     "data": {
      "text/plain": [
       "0.32"
      ]
     },
     "execution_count": 74,
     "metadata": {},
     "output_type": "execute_result"
    }
   ],
   "source": [
    "df.n_inj_in.mean()"
   ]
  }
 ],
 "metadata": {
  "kernelspec": {
   "display_name": "Python 3",
   "language": "python",
   "name": "python3"
  },
  "language_info": {
   "codemirror_mode": {
    "name": "ipython",
    "version": 3
   },
   "file_extension": ".py",
   "mimetype": "text/x-python",
   "name": "python",
   "nbconvert_exporter": "python",
   "pygments_lexer": "ipython3",
   "version": "3.6.12"
  }
 },
 "nbformat": 4,
 "nbformat_minor": 4
}
